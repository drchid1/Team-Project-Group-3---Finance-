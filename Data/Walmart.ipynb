{
 "cells": [
  {
   "cell_type": "code",
   "execution_count": 34,
   "id": "16b164d9-66d6-46f8-939f-c0ae2d01fa1c",
   "metadata": {},
   "outputs": [
    {
     "data": {
      "text/html": [
       "<div>\n",
       "<style scoped>\n",
       "    .dataframe tbody tr th:only-of-type {\n",
       "        vertical-align: middle;\n",
       "    }\n",
       "\n",
       "    .dataframe tbody tr th {\n",
       "        vertical-align: top;\n",
       "    }\n",
       "\n",
       "    .dataframe thead th {\n",
       "        text-align: right;\n",
       "    }\n",
       "</style>\n",
       "<table border=\"1\" class=\"dataframe\">\n",
       "  <thead>\n",
       "    <tr style=\"text-align: right;\">\n",
       "      <th></th>\n",
       "      <th>Date</th>\n",
       "      <th>Open</th>\n",
       "      <th>High</th>\n",
       "      <th>Low</th>\n",
       "      <th>Close</th>\n",
       "      <th>Adj Close</th>\n",
       "      <th>Volume</th>\n",
       "    </tr>\n",
       "  </thead>\n",
       "  <tbody>\n",
       "    <tr>\n",
       "      <th>0</th>\n",
       "      <td>2019-03-31</td>\n",
       "      <td>32.682221</td>\n",
       "      <td>33.188890</td>\n",
       "      <td>32.281111</td>\n",
       "      <td>32.692221</td>\n",
       "      <td>30.192506</td>\n",
       "      <td>100509300.0</td>\n",
       "    </tr>\n",
       "    <tr>\n",
       "      <th>1</th>\n",
       "      <td>2019-04-30</td>\n",
       "      <td>33.491999</td>\n",
       "      <td>34.139333</td>\n",
       "      <td>33.073334</td>\n",
       "      <td>33.812000</td>\n",
       "      <td>31.282666</td>\n",
       "      <td>75760800.0</td>\n",
       "    </tr>\n",
       "    <tr>\n",
       "      <th>2</th>\n",
       "      <td>2019-05-31</td>\n",
       "      <td>33.679167</td>\n",
       "      <td>34.414167</td>\n",
       "      <td>33.225834</td>\n",
       "      <td>33.906666</td>\n",
       "      <td>31.495155</td>\n",
       "      <td>105077850.0</td>\n",
       "    </tr>\n",
       "    <tr>\n",
       "      <th>3</th>\n",
       "      <td>2019-06-30</td>\n",
       "      <td>35.726667</td>\n",
       "      <td>36.696667</td>\n",
       "      <td>35.407500</td>\n",
       "      <td>36.395833</td>\n",
       "      <td>33.852091</td>\n",
       "      <td>91143750.0</td>\n",
       "    </tr>\n",
       "    <tr>\n",
       "      <th>4</th>\n",
       "      <td>2019-07-31</td>\n",
       "      <td>37.655333</td>\n",
       "      <td>37.998667</td>\n",
       "      <td>37.012000</td>\n",
       "      <td>37.526667</td>\n",
       "      <td>34.903889</td>\n",
       "      <td>62639160.0</td>\n",
       "    </tr>\n",
       "    <tr>\n",
       "      <th>...</th>\n",
       "      <td>...</td>\n",
       "      <td>...</td>\n",
       "      <td>...</td>\n",
       "      <td>...</td>\n",
       "      <td>...</td>\n",
       "      <td>...</td>\n",
       "      <td>...</td>\n",
       "    </tr>\n",
       "    <tr>\n",
       "      <th>56</th>\n",
       "      <td>2023-11-30</td>\n",
       "      <td>53.530833</td>\n",
       "      <td>54.360000</td>\n",
       "      <td>52.085000</td>\n",
       "      <td>52.661667</td>\n",
       "      <td>52.466802</td>\n",
       "      <td>132030975.0</td>\n",
       "    </tr>\n",
       "    <tr>\n",
       "      <th>57</th>\n",
       "      <td>2023-12-31</td>\n",
       "      <td>51.205001</td>\n",
       "      <td>52.115000</td>\n",
       "      <td>50.751667</td>\n",
       "      <td>51.491667</td>\n",
       "      <td>51.445147</td>\n",
       "      <td>126162375.0</td>\n",
       "    </tr>\n",
       "    <tr>\n",
       "      <th>58</th>\n",
       "      <td>2024-01-31</td>\n",
       "      <td>53.502000</td>\n",
       "      <td>54.714667</td>\n",
       "      <td>53.116666</td>\n",
       "      <td>54.283335</td>\n",
       "      <td>54.283335</td>\n",
       "      <td>85557120.0</td>\n",
       "    </tr>\n",
       "    <tr>\n",
       "      <th>59</th>\n",
       "      <td>2024-02-29</td>\n",
       "      <td>57.923332</td>\n",
       "      <td>58.621667</td>\n",
       "      <td>56.912500</td>\n",
       "      <td>57.623333</td>\n",
       "      <td>57.623333</td>\n",
       "      <td>124948750.0</td>\n",
       "    </tr>\n",
       "    <tr>\n",
       "      <th>60</th>\n",
       "      <td>2024-03-31</td>\n",
       "      <td>59.299999</td>\n",
       "      <td>60.890000</td>\n",
       "      <td>59.135001</td>\n",
       "      <td>60.390000</td>\n",
       "      <td>60.390000</td>\n",
       "      <td>45445100.0</td>\n",
       "    </tr>\n",
       "  </tbody>\n",
       "</table>\n",
       "<p>61 rows × 7 columns</p>\n",
       "</div>"
      ],
      "text/plain": [
       "         Date       Open       High        Low      Close  Adj Close  \\\n",
       "0  2019-03-31  32.682221  33.188890  32.281111  32.692221  30.192506   \n",
       "1  2019-04-30  33.491999  34.139333  33.073334  33.812000  31.282666   \n",
       "2  2019-05-31  33.679167  34.414167  33.225834  33.906666  31.495155   \n",
       "3  2019-06-30  35.726667  36.696667  35.407500  36.395833  33.852091   \n",
       "4  2019-07-31  37.655333  37.998667  37.012000  37.526667  34.903889   \n",
       "..        ...        ...        ...        ...        ...        ...   \n",
       "56 2023-11-30  53.530833  54.360000  52.085000  52.661667  52.466802   \n",
       "57 2023-12-31  51.205001  52.115000  50.751667  51.491667  51.445147   \n",
       "58 2024-01-31  53.502000  54.714667  53.116666  54.283335  54.283335   \n",
       "59 2024-02-29  57.923332  58.621667  56.912500  57.623333  57.623333   \n",
       "60 2024-03-31  59.299999  60.890000  59.135001  60.390000  60.390000   \n",
       "\n",
       "         Volume  \n",
       "0   100509300.0  \n",
       "1    75760800.0  \n",
       "2   105077850.0  \n",
       "3    91143750.0  \n",
       "4    62639160.0  \n",
       "..          ...  \n",
       "56  132030975.0  \n",
       "57  126162375.0  \n",
       "58   85557120.0  \n",
       "59  124948750.0  \n",
       "60   45445100.0  \n",
       "\n",
       "[61 rows x 7 columns]"
      ]
     },
     "metadata": {},
     "output_type": "display_data"
    }
   ],
   "source": [
    "# Create libraries\n",
    "import pandas as pd\n",
    "import matplotlib.pyplot as plt\n",
    "\n",
    "# Read the CSV file into a DataFrame\n",
    "df = pd.read_csv('WMT.csv')\n",
    "\n",
    "# Convert the 'Date' column to datetime format\n",
    "df['Date'] = pd.to_datetime(df['Date'])\n",
    "\n",
    "# Set the 'Date' column as the index\n",
    "df.set_index('Date', inplace=True)\n",
    "\n",
    "# Resample the data to monthly frequency and calculate the mean\n",
    "monthly_df = df.resample('M').mean()\n",
    "\n",
    "# Reset index to make 'Date' a column again\n",
    "monthly_df.reset_index(inplace=True)\n",
    "\n",
    "# Display the \"raw\" values\n",
    "display(monthly_df)"
   ]
  },
  {
   "cell_type": "code",
   "execution_count": 35,
   "id": "379f6586-dbcf-4cc6-b49a-ddf2f0b83e09",
   "metadata": {},
   "outputs": [
    {
     "data": {
      "text/html": [
       "<div>\n",
       "<style scoped>\n",
       "    .dataframe tbody tr th:only-of-type {\n",
       "        vertical-align: middle;\n",
       "    }\n",
       "\n",
       "    .dataframe tbody tr th {\n",
       "        vertical-align: top;\n",
       "    }\n",
       "\n",
       "    .dataframe thead th {\n",
       "        text-align: right;\n",
       "    }\n",
       "</style>\n",
       "<table border=\"1\" class=\"dataframe\">\n",
       "  <thead>\n",
       "    <tr style=\"text-align: right;\">\n",
       "      <th></th>\n",
       "      <th>Date</th>\n",
       "      <th>Open</th>\n",
       "      <th>Close</th>\n",
       "      <th>Price_Difference</th>\n",
       "      <th>Percentage_Change</th>\n",
       "    </tr>\n",
       "  </thead>\n",
       "  <tbody>\n",
       "    <tr>\n",
       "      <th>0</th>\n",
       "      <td>2019-03-31</td>\n",
       "      <td>32.680000</td>\n",
       "      <td>32.509998</td>\n",
       "      <td>-0.170002</td>\n",
       "      <td>-0.520202</td>\n",
       "    </tr>\n",
       "    <tr>\n",
       "      <th>1</th>\n",
       "      <td>2019-04-30</td>\n",
       "      <td>32.656666</td>\n",
       "      <td>34.026669</td>\n",
       "      <td>1.370003</td>\n",
       "      <td>4.195171</td>\n",
       "    </tr>\n",
       "    <tr>\n",
       "      <th>2</th>\n",
       "      <td>2019-05-31</td>\n",
       "      <td>33.583332</td>\n",
       "      <td>33.813332</td>\n",
       "      <td>0.230000</td>\n",
       "      <td>0.684864</td>\n",
       "    </tr>\n",
       "    <tr>\n",
       "      <th>3</th>\n",
       "      <td>2019-06-30</td>\n",
       "      <td>33.876667</td>\n",
       "      <td>36.830002</td>\n",
       "      <td>2.953335</td>\n",
       "      <td>8.717903</td>\n",
       "    </tr>\n",
       "    <tr>\n",
       "      <th>4</th>\n",
       "      <td>2019-07-31</td>\n",
       "      <td>37.099998</td>\n",
       "      <td>36.466667</td>\n",
       "      <td>-0.633331</td>\n",
       "      <td>-1.707092</td>\n",
       "    </tr>\n",
       "    <tr>\n",
       "      <th>...</th>\n",
       "      <td>...</td>\n",
       "      <td>...</td>\n",
       "      <td>...</td>\n",
       "      <td>...</td>\n",
       "      <td>...</td>\n",
       "    </tr>\n",
       "    <tr>\n",
       "      <th>56</th>\n",
       "      <td>2023-11-30</td>\n",
       "      <td>54.833332</td>\n",
       "      <td>51.446667</td>\n",
       "      <td>-3.386665</td>\n",
       "      <td>-6.176289</td>\n",
       "    </tr>\n",
       "    <tr>\n",
       "      <th>57</th>\n",
       "      <td>2023-12-31</td>\n",
       "      <td>51.106667</td>\n",
       "      <td>52.549999</td>\n",
       "      <td>1.443332</td>\n",
       "      <td>2.824156</td>\n",
       "    </tr>\n",
       "    <tr>\n",
       "      <th>58</th>\n",
       "      <td>2024-01-31</td>\n",
       "      <td>52.416668</td>\n",
       "      <td>56.523335</td>\n",
       "      <td>4.106667</td>\n",
       "      <td>7.834659</td>\n",
       "    </tr>\n",
       "    <tr>\n",
       "      <th>59</th>\n",
       "      <td>2024-02-29</td>\n",
       "      <td>56.669998</td>\n",
       "      <td>58.759998</td>\n",
       "      <td>2.090000</td>\n",
       "      <td>3.688018</td>\n",
       "    </tr>\n",
       "    <tr>\n",
       "      <th>60</th>\n",
       "      <td>2024-03-31</td>\n",
       "      <td>58.500000</td>\n",
       "      <td>60.660000</td>\n",
       "      <td>2.160000</td>\n",
       "      <td>3.692308</td>\n",
       "    </tr>\n",
       "  </tbody>\n",
       "</table>\n",
       "<p>61 rows × 5 columns</p>\n",
       "</div>"
      ],
      "text/plain": [
       "         Date       Open      Close  Price_Difference  Percentage_Change\n",
       "0  2019-03-31  32.680000  32.509998         -0.170002          -0.520202\n",
       "1  2019-04-30  32.656666  34.026669          1.370003           4.195171\n",
       "2  2019-05-31  33.583332  33.813332          0.230000           0.684864\n",
       "3  2019-06-30  33.876667  36.830002          2.953335           8.717903\n",
       "4  2019-07-31  37.099998  36.466667         -0.633331          -1.707092\n",
       "..        ...        ...        ...               ...                ...\n",
       "56 2023-11-30  54.833332  51.446667         -3.386665          -6.176289\n",
       "57 2023-12-31  51.106667  52.549999          1.443332           2.824156\n",
       "58 2024-01-31  52.416668  56.523335          4.106667           7.834659\n",
       "59 2024-02-29  56.669998  58.759998          2.090000           3.688018\n",
       "60 2024-03-31  58.500000  60.660000          2.160000           3.692308\n",
       "\n",
       "[61 rows x 5 columns]"
      ]
     },
     "metadata": {},
     "output_type": "display_data"
    }
   ],
   "source": [
    "# Calculate Percentage Change in Stock Price\n",
    "\n",
    "# Read the daily stock data from the CSV file\n",
    "stock_data = pd.read_csv('WMT.csv')\n",
    "\n",
    "# Convert the date column to datetime format\n",
    "stock_data['Date'] = pd.to_datetime(stock_data['Date'])\n",
    "\n",
    "# Group the data by month\n",
    "monthly_data = stock_data.groupby(pd.Grouper(key='Date', freq='M')).agg({\n",
    "    'Open': 'first',\n",
    "    'Close': 'last'\n",
    "}).reset_index()\n",
    "\n",
    "# Calculate the price difference between closing and opening prices\n",
    "monthly_data['Price_Difference'] = monthly_data['Close'] - monthly_data['Open']\n",
    "\n",
    "# Calculate the percentage change\n",
    "monthly_data['Percentage_Change'] = (monthly_data['Price_Difference'] / monthly_data['Open']) * 100\n",
    "\n",
    "# Display the percentage change\n",
    "display(monthly_data)"
   ]
  },
  {
   "cell_type": "code",
   "execution_count": 36,
   "id": "a4622580-e23e-421f-8ce7-b8963a5894c9",
   "metadata": {},
   "outputs": [
    {
     "data": {
      "image/png": "[encoded data removed]",
      "text/plain": [
       "<Figure size 1000x600 with 1 Axes>"
      ]
     },
     "metadata": {},
     "output_type": "display_data"
    }
   ],
   "source": [
    "# Plot the percentage change as a graph\n",
    "\n",
    "plt.figure(figsize=(10, 6))\n",
    "plt.plot(monthly_data['Date'], monthly_data['Percentage_Change'], marker='o', color='b', linestyle='-')\n",
    "plt.title('Monthly Percentage Change in Stock Prices for Walmart')\n",
    "plt.xlabel('Date')\n",
    "plt.ylabel('Percentage Change (%)')\n",
    "plt.grid(True)\n",
    "plt.xticks(rotation=45)\n",
    "plt.tight_layout()\n",
    "plt.show()"
   ]
  },
  {
   "cell_type": "code",
   "execution_count": 37,
   "id": "d80c2439-9ba4-430e-aed7-b741574a3ec0",
   "metadata": {},
   "outputs": [
    {
     "name": "stdout",
     "output_type": "stream",
     "text": [
      "The opening stock price on 2019-03-11 was: 32.68\n"
     ]
    }
   ],
   "source": [
    "# Get the original Opening Price\n",
    "\n",
    "# Read the CSV file into a DataFrame\n",
    "df = pd.read_csv(\"WMT.csv\")\n",
    "\n",
    "# Enter Desired Date\n",
    "desired_date = '2019-03-11'\n",
    "\n",
    "# Filter the DataFrame by the desired date\n",
    "desired_row = df[df['Date'] == desired_date]\n",
    "\n",
    "# Check if any row matched the desired date\n",
    "if not desired_row.empty:\n",
    "    # Retrieve the opening price from the desired row\n",
    "    opening_price = desired_row['Open'].values[0]\n",
    "    print(f\"The opening stock price on {desired_date} was: {opening_price}\")\n",
    "else:\n",
    "    print(f\"No data found for {desired_date}.\")\n",
    "\n",
    "# Save the original opening price\n",
    "original_opening_price = opening_price"
   ]
  },
  {
   "cell_type": "code",
   "execution_count": 38,
   "id": "34cf2465-2fb7-4b5e-9b2c-641d78eb8202",
   "metadata": {},
   "outputs": [
    {
     "name": "stdout",
     "output_type": "stream",
     "text": [
      "The closing stock price on 2024-03-11 was: 60.66\n"
     ]
    }
   ],
   "source": [
    "# Get the Closing Price after 60 Months\n",
    "\n",
    "# Read the CSV file into a DataFrame\n",
    "df = pd.read_csv(\"WMT.csv\")\n",
    "\n",
    "# Enter Desired Date\n",
    "desired_date = '2024-03-11'\n",
    "\n",
    "# Filter the DataFrame by the desired date\n",
    "desired_row = df[df['Date'] == desired_date]\n",
    "\n",
    "# Check if any row matched the desired date\n",
    "if not desired_row.empty:\n",
    "    # Retrieve the opening price from the desired row\n",
    "    closing_price = desired_row['Close'].values[0]\n",
    "    print(f\"The closing stock price on {desired_date} was: {closing_price}\")\n",
    "else:\n",
    "    print(f\"No data found for {desired_date}.\")\n",
    "\n",
    "# Save this closing price\n",
    "closing_price_after_60_months = closing_price"
   ]
  },
  {
   "cell_type": "code",
   "execution_count": 39,
   "id": "9fd0d398-6bae-4048-91f6-31b87e693c99",
   "metadata": {},
   "outputs": [
    {
     "data": {
      "text/plain": [
       "array([85.61811506])"
      ]
     },
     "metadata": {},
     "output_type": "display_data"
    }
   ],
   "source": [
    "# Calculate % Change in stock price for this period\n",
    "\n",
    "Percentage_change_after_60_months = ([closing_price_after_60_months - original_opening_price] / original_opening_price) * 100\n",
    "display(Percentage_change_after_60_months)"
   ]
  },
  {
   "cell_type": "code",
   "execution_count": 40,
   "id": "90b8f715-459b-437f-8b96-918b70115934",
   "metadata": {},
   "outputs": [
    {
     "name": "stdout",
     "output_type": "stream",
     "text": [
      "The closing stock price on 2023-03-13 was: 46.466667\n"
     ]
    }
   ],
   "source": [
    "# Get the Closing Price after 48 Months\n",
    "\n",
    "# Read the CSV file into a DataFrame\n",
    "df = pd.read_csv(\"WMT.csv\")\n",
    "\n",
    "# Enter Desired Date\n",
    "desired_date = '2023-03-13'\n",
    "\n",
    "# Filter the DataFrame by the desired date\n",
    "desired_row = df[df['Date'] == desired_date]\n",
    "\n",
    "# Check if any row matched the desired date\n",
    "if not desired_row.empty:\n",
    "    # Retrieve the opening price from the desired row\n",
    "    closing_price = desired_row['Close'].values[0]\n",
    "    print(f\"The closing stock price on {desired_date} was: {closing_price}\")\n",
    "else:\n",
    "    print(f\"No data found for {desired_date}.\")\n",
    "\n",
    "# Save this ing price\n",
    "closing_price_after_48_months = closing_price"
   ]
  },
  {
   "cell_type": "code",
   "execution_count": 41,
   "id": "fada5345-b68d-49fd-bfee-cb94a3deb4ed",
   "metadata": {},
   "outputs": [
    {
     "data": {
      "text/plain": [
       "array([42.18686353])"
      ]
     },
     "metadata": {},
     "output_type": "display_data"
    }
   ],
   "source": [
    "# Calculate % Change in stock price for this period\n",
    "\n",
    "Percentage_change_after_48_months = ([closing_price_after_48_months - original_opening_price] / original_opening_price) * 100\n",
    "display(Percentage_change_after_48_months)"
   ]
  },
  {
   "cell_type": "code",
   "execution_count": 42,
   "id": "5741032f-0bfa-4229-b4cf-d0609a88b8cb",
   "metadata": {},
   "outputs": [
    {
     "name": "stdout",
     "output_type": "stream",
     "text": [
      "The closing stock price on 2022-03-14 was: 48.48\n"
     ]
    }
   ],
   "source": [
    "# Get the Closing Price after 36 Months\n",
    "\n",
    "# Read the CSV file into a DataFrame\n",
    "df = pd.read_csv(\"WMT.csv\")\n",
    "\n",
    "# Enter Desired Date\n",
    "desired_date = '2022-03-14'\n",
    "\n",
    "# Filter the DataFrame by the desired date\n",
    "desired_row = df[df['Date'] == desired_date]\n",
    "\n",
    "# Check if any row matched the desired date\n",
    "if not desired_row.empty:\n",
    "    # Retrieve the opening price from the desired row\n",
    "    closing_price = desired_row['Close'].values[0]\n",
    "    print(f\"The closing stock price on {desired_date} was: {closing_price}\")\n",
    "else:\n",
    "    print(f\"No data found for {desired_date}.\")\n",
    "\n",
    "# Save this closing price\n",
    "closing_price_after_36_months = closing_price"
   ]
  },
  {
   "cell_type": "code",
   "execution_count": 43,
   "id": "1269a4e9-9448-494c-b51b-2d32a04b8908",
   "metadata": {},
   "outputs": [
    {
     "data": {
      "text/plain": [
       "array([48.34761322])"
      ]
     },
     "metadata": {},
     "output_type": "display_data"
    }
   ],
   "source": [
    "# Calculate % Change in stock price for this period\n",
    "\n",
    "Percentage_change_after_36_months = ([closing_price_after_36_months - original_opening_price] / original_opening_price) * 100\n",
    "\n",
    "display(Percentage_change_after_36_months)"
   ]
  },
  {
   "cell_type": "code",
   "execution_count": 44,
   "id": "10c4e3c2-a5e8-4179-8594-606e36dd517c",
   "metadata": {},
   "outputs": [
    {
     "name": "stdout",
     "output_type": "stream",
     "text": [
      "The closing stock price on 2021-03-15 was: 43.913334\n"
     ]
    }
   ],
   "source": [
    "# Get the Closing Price after 24 Months\n",
    "\n",
    "# Read the CSV file into a DataFrame\n",
    "df = pd.read_csv(\"WMT.csv\")\n",
    "\n",
    "# Enter Desired Date\n",
    "desired_date = '2021-03-15'\n",
    "\n",
    "# Filter the DataFrame by the desired date\n",
    "desired_row = df[df['Date'] == desired_date]\n",
    "\n",
    "# Check if any row matched the desired date\n",
    "if not desired_row.empty:\n",
    "    # Retrieve the opening price from the desired row\n",
    "    closing_price = desired_row['Close'].values[0]\n",
    "    print(f\"The closing stock price on {desired_date} was: {closing_price}\")\n",
    "else:\n",
    "    print(f\"No data found for {desired_date}.\")\n",
    "\n",
    "# Save this closing price\n",
    "closing_price_after_24_months = closing_price"
   ]
  },
  {
   "cell_type": "code",
   "execution_count": 45,
   "id": "13f0cd95-26ea-4a05-8049-f2d08066789e",
   "metadata": {},
   "outputs": [
    {
     "data": {
      "text/plain": [
       "array([34.37372705])"
      ]
     },
     "metadata": {},
     "output_type": "display_data"
    }
   ],
   "source": [
    "# Calculate % Change in stock price for this period\n",
    "\n",
    "Percentage_change_after_24_months = ([closing_price_after_24_months - original_opening_price] / original_opening_price) * 100\n",
    "display(Percentage_change_after_24_months)"
   ]
  },
  {
   "cell_type": "code",
   "execution_count": 46,
   "id": "8bfb2607-3a5a-4ea2-8704-43f961f7679f",
   "metadata": {},
   "outputs": [
    {
     "name": "stdout",
     "output_type": "stream",
     "text": [
      "The closing stock price on 2020-03-09 was: 38.033333\n"
     ]
    }
   ],
   "source": [
    "# Get the Closing Price after 12 Months\n",
    "\n",
    "# Read the CSV file into a DataFrame\n",
    "df = pd.read_csv(\"WMT.csv\")\n",
    "\n",
    "# Enter Desired Date\n",
    "desired_date = '2020-03-09'\n",
    "\n",
    "# Filter the DataFrame by the desired date\n",
    "desired_row = df[df['Date'] == desired_date]\n",
    "\n",
    "# Check if any row matched the desired date\n",
    "if not desired_row.empty:\n",
    "    # Retrieve the opening price from the desired row\n",
    "    closing_price = desired_row['Close'].values[0]\n",
    "    print(f\"The closing stock price on {desired_date} was: {closing_price}\")\n",
    "else:\n",
    "    print(f\"No data found for {desired_date}.\")\n",
    "\n",
    "# Save this closing price\n",
    "closing_price_after_12_months = closing_price"
   ]
  },
  {
   "cell_type": "code",
   "execution_count": 47,
   "id": "55786fb0-b276-448a-a63a-c796ffbcfe98",
   "metadata": {},
   "outputs": [
    {
     "data": {
      "text/plain": [
       "array([16.38106793])"
      ]
     },
     "metadata": {},
     "output_type": "display_data"
    }
   ],
   "source": [
    "# Calculate % Change in stock price for this period\n",
    "\n",
    "Percentage_change_after_12_months = ([closing_price_after_12_months - original_opening_price] / original_opening_price) * 100\n",
    "display(Percentage_change_after_12_months)"
   ]
  },
  {
   "cell_type": "code",
   "execution_count": 1,
   "id": "f852e5f1-c0f9-49f7-90af-dbc003cd6f2c",
   "metadata": {},
   "outputs": [
    {
     "data": {
      "image/png": "[encoded data removed]",
      "text/plain": [
       "<Figure size 640x480 with 1 Axes>"
      ]
     },
     "metadata": {},
     "output_type": "display_data"
    }
   ],
   "source": [
    "import matplotlib.pyplot as plt\n",
    "\n",
    "# Example data: percentage changes after 12, 24, and 36 months\n",
    "months = ['After 12 Months', 'After 24 Months', 'After 36 Months', 'After 48 Months', 'After 60 Months']\n",
    "percentage_changes = [16.38106793,  34.37372705, 48.34761322, 42.18686353, 85.61811506]\n",
    "\n",
    "# Plotting the bar chart\n",
    "plt.bar(months, percentage_changes, color='skyblue')\n",
    "\n",
    "# Adding labels and title\n",
    "plt.xlabel('Length of Investment')\n",
    "plt.xticks(rotation=90)\n",
    "plt.ylabel('Percentage Change')\n",
    "plt.title('Percentage Change to Stock Price for Walmart over Time')\n",
    "\n",
    "# Display the plot\n",
    "plt.show()"
   ]
  }
 ],
 "metadata": {
  "kernelspec": {
   "display_name": "Python 3 (ipykernel)",
   "language": "python",
   "name": "python3"
  },
  "language_info": {
   "codemirror_mode": {
    "name": "ipython",
    "version": 3
   },
   "file_extension": ".py",
   "mimetype": "text/x-python",
   "name": "python",
   "nbconvert_exporter": "python",
   "pygments_lexer": "ipython3",
   "version": "3.10.13"
  },
  "widgets": {
   "application/vnd.jupyter.widget-state+json": {
    "state": {},
    "version_major": 2,
    "version_minor": 0
   }
  }
 },
 "nbformat": 4,
 "nbformat_minor": 5
}
