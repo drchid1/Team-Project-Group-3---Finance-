# Create libraries
import pandas as pd
import matplotlib.pyplot as plt

# Read the CSV file into a DataFrame
df = pd.read_csv('COST.csv')

# Convert the 'Date' column to datetime format
df['Date'] = pd.to_datetime(df['Date'])

# Set the 'Date' column as the index
df.set_index('Date', inplace=True)

# Resample the data to monthly frequency and calculate the mean
monthly_df = df.resample('M').mean()

# Reset index to make 'Date' a column again
monthly_df.reset_index(inplace=True)

# Display the "raw" values
display(monthly_df)
